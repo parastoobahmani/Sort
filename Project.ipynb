{
 "cells": [
  {
   "cell_type": "code",
   "execution_count": null,
   "metadata": {},
   "outputs": [],
   "source": [
    "import time\n",
    "from threading import Thread"
   ]
  },
  {
   "cell_type": "code",
   "execution_count": null,
   "metadata": {},
   "outputs": [],
   "source": [
    "def read_from_file(file_name):\n",
    "    for i in range(1,1000,100):\n",
    "        min_num=i\n",
    "        max_num=i+100-1\n",
    "        my_list=list()\n",
    "        with open(file_name) as f:\n",
    "            reader=f.readline()\n",
    "            while reader is not None and len(reader)!=0:\n",
    "                reader_int=int(reader)\n",
    "                if min_num<=reader_int<=max_num:\n",
    "                    my_list.append(reader_int)\n",
    "                reader=f.readline()\n",
    "        yield my_list"
   ]
  },
  {
   "cell_type": "code",
   "execution_count": null,
   "metadata": {},
   "outputs": [],
   "source": [
    "def write_to_file(elements,alg_name):\n",
    "    direct=alg_name+\".txt\"\n",
    "    with open(direct,mode=\"a\") as f:\n",
    "        for i in elements:\n",
    "            f.write(str(i)+\"\\n\")"
   ]
  },
  {
   "cell_type": "code",
   "execution_count": null,
   "metadata": {},
   "outputs": [],
   "source": [
    "def bubble_sort(elements):\n",
    "    for i in range(0,len(elements)):\n",
    "        for j in range(0,len(elements)-i-1):\n",
    "            try:\n",
    "                if not(elements[j]<elements[j+1]):\n",
    "                    elements[j] , elements[j+1] = elements[j+1] , elements[j]\n",
    "            except:\n",
    "                continue\n",
    "    write_to_file(elements,\"Bubble_Sort\")"
   ]
  },
  {
   "cell_type": "code",
   "execution_count": null,
   "metadata": {},
   "outputs": [],
   "source": [
    "def iterate_and_bubble_sort():\n",
    "    global init_time\n",
    "    for elements in read_from_file(\"Random.txt\"):\n",
    "        bubble_sort(elements)\n",
    "    with open(\"duration.txt\",mode=\"a\") as f:\n",
    "        final_time=time.perf_counter()\n",
    "        duration=final_time-init_time\n",
    "        f.write(\"Algorithm <Bubble_Sort> took \"+str(duration)+\" seconds to finish\\n\")"
   ]
  },
  {
   "cell_type": "code",
   "execution_count": null,
   "metadata": {},
   "outputs": [],
   "source": [
    "def main():\n",
    "    global init_time\n",
    "    init_time=time.perf_counter()\n",
    "    t1=Thread(target=iterate_and_bubble_sort)\n",
    "    t1.start()"
   ]
  },
  {
   "cell_type": "code",
   "execution_count": null,
   "metadata": {},
   "outputs": [],
   "source": [
    "main()"
   ]
  },
  {
   "cell_type": "code",
   "execution_count": null,
   "metadata": {},
   "outputs": [],
   "source": []
  },
  {
   "cell_type": "code",
   "execution_count": null,
   "metadata": {},
   "outputs": [],
   "source": []
  }
 ],
 "metadata": {
  "kernelspec": {
   "display_name": "Python 3",
   "language": "python",
   "name": "python3"
  },
  "language_info": {
   "codemirror_mode": {
    "name": "ipython",
    "version": 3
   },
   "file_extension": ".py",
   "mimetype": "text/x-python",
   "name": "python",
   "nbconvert_exporter": "python",
   "pygments_lexer": "ipython3",
   "version": "3.7.3"
  }
 },
 "nbformat": 4,
 "nbformat_minor": 2
}
